{
 "cells": [
  {
   "cell_type": "code",
   "execution_count": null,
   "id": "1165520a",
   "metadata": {},
   "outputs": [],
   "source": [
    "from ContinuumExcitableElasticity import pde, ContourPlotAnimator\n",
    "from pde import CartesianGrid, Controller, MemoryStorage, ScalarField, FieldCollection, PlotTracker, ExplicitSolver,VectorField\n",
    "import numpy as np"
   ]
  },
  {
   "cell_type": "code",
   "execution_count": null,
   "id": "a0dbdc5c",
   "metadata": {},
   "outputs": [],
   "source": [
    "# Simulation parameters\n",
    "# Physical Box Size\n",
    "L=20\n",
    "# number of points, its easier to do the math if this is odd\n",
    "Npts=101\n",
    "#derived grid spacing\n",
    "h= L/(Npts-1)\n",
    "# Run time\n",
    "T=400\n",
    "#timestep\n",
    "dt=1e-3\n",
    "# Time interval for printing\n",
    "pt = 0.5\n",
    "# Material Parameters\n",
    "B=1.\n",
    "mu=1.\n",
    "eta=1.\n",
    "ko=1.\n",
    "mu_tilde=2.\n",
    "gamma=0.\n",
    "rho=1.\n",
    "\n",
    "### Some numbers its good to know ###\n",
    "J=ko**2\n",
    "ViscThresh=J-(B/2)**2\n",
    "qc=np.sqrt(( rho/(eta**2) )*( (J-((B/2)**2))/(mu+(B/2)) ))\n",
    "lamc=(2*np.pi)/qc\n",
    "\n",
    "# initialise the PDE\n",
    "bc='auto_periodic_dirichlet' #periodic or dirichlet depending on periodic=...\n",
    "eq = pde(B,mu,eta,ko,mu_tilde,gamma,rho,L, bc)\n",
    "\n",
    "# Initialise the Grid\n",
    "bounds=[(-L/2,L/2),(-L/2,L/2)]\n",
    "shape=[Npts,Npts]\n",
    "grid = CartesianGrid(bounds,shape, periodic=[True,True])\n",
    "\n",
    "# now feed in an initial state\n",
    "# Random Fuzz\n",
    "\n",
    "# random fuzz for an ic\n",
    "A=0.1\n",
    "ux_init=np.random.rand(Npts,Npts)-0.5\n",
    "uy_init=np.random.rand(Npts,Npts)-0.5\n",
    "u_init= A*np.array([ux_init,uy_init])\n",
    "\n",
    "px_init=np.random.rand(Npts,Npts)-0.5\n",
    "py_init=np.random.rand(Npts,Npts)-0.5\n",
    "p_init= A*np.array([px_init,py_init])\n",
    "\n",
    "state = FieldCollection([VectorField(grid,u_init),VectorField(grid,p_init)])"
   ]
  },
  {
   "cell_type": "code",
   "execution_count": null,
   "id": "a9ff4340",
   "metadata": {},
   "outputs": [],
   "source": [
    "# GOGO!\n",
    "storage = MemoryStorage()\n",
    "trackers = ['progress', 'consistency', storage.tracker(interval=pt) ]\n",
    "solver1 = ExplicitSolver(eq)\n",
    "controller1 = Controller(solver1, t_range=T, tracker=trackers)\n",
    "sol1 = controller1.run(state,dt=dt)\n",
    "print(\"Diagnostic information:\")\n",
    "print(controller1.diagnostics)"
   ]
  },
  {
   "cell_type": "code",
   "execution_count": null,
   "id": "c75f2d44",
   "metadata": {},
   "outputs": [],
   "source": [
    "# extract the data\n",
    "\n",
    "# make empty arrays\n",
    "Length=sum(1 for _ in storage.items())\n",
    "times=np.empty([Length])\n",
    "uxdata=np.empty([Length, Npts,Npts]) # scalar field (time, y, x), as np is row/column!\n",
    "uydata=np.empty([Length, Npts,Npts]) # scalar field (time, y, x), as np is row/column!\n",
    "divudata=np.empty([Length, Npts,Npts]) # scalar field (time, y, x), as np is row/column!\n",
    "shearphasedata=np.empty([Length, Npts,Npts]) # scalar field (time, y, x), as np is row/column!\n",
    "shearmagdata=np.empty([Length, Npts,Npts]) # scalar field (time, y, x), as np is row/column!\n",
    "\n",
    "# read data in to those arrays in a loop\n",
    "mygenerator=storage.items()\n",
    "for count in range(0,Length):\n",
    "    time,field=next(mygenerator)\n",
    "\n",
    "    ux=field[0].data[0,:,:]\n",
    "    uy=field[0].data[1,:,:]\n",
    "    # Calculate the Shear and Bulk Deformations\n",
    "    u=VectorField(grid,np.array([ux,uy]))\n",
    "    # bulk\n",
    "    divu=u.divergence(bc).data\n",
    "    #shear\n",
    "    diuj= u.gradient(bc)       \n",
    "    Sij=diuj.symmetrize(make_traceless=True) # the traceless part of the strain tensor\n",
    "    # the complex representation\n",
    "    z=Sij.data[0,0,:,:]+Sij.data[0,1,:,:]*1j\n",
    "    \n",
    "    # read in the data into a big numpy array\n",
    "    times[count]=time\n",
    "    uxdata[count,:,:]=ux\n",
    "    uydata[count,:,:]=uy\n",
    "    shearphasedata[count,:,:]=np.angle(z)\n",
    "    shearmagdata[count,:,:]=np.abs(z)\n",
    "    divudata[count,:,:]=divu\n",
    "    "
   ]
  },
  {
   "cell_type": "code",
   "execution_count": null,
   "id": "363dd491",
   "metadata": {},
   "outputs": [],
   "source": [
    "# visualise the data\n",
    "%matplotlib notebook\n",
    "x=ContourPlotAnimator(shearphasedata,times,'Phase of $S_1+i S_2$',cmap=plt.get_cmap(\"hsv\"))\n",
    "x.save('Phase_S1+iS2.mp4',fps=20)"
   ]
  },
  {
   "cell_type": "code",
   "execution_count": null,
   "id": "fdaf740d",
   "metadata": {},
   "outputs": [],
   "source": [
    "x=ContourPlotAnimator(shearmagdata,times,'Magnitude of $S_1+i S_2$',cmap=plt.get_cmap(\"viridis\"))\n",
    "x.save('Magnitude_S1+iS2.mp4',fps=20)"
   ]
  },
  {
   "cell_type": "code",
   "execution_count": null,
   "id": "3d7e0c55",
   "metadata": {},
   "outputs": [],
   "source": [
    "x=ContourPlotAnimator(divudata,times,'Magnitude of div(u)',cmap=plt.get_cmap(\"viridis\"))\n",
    "x.save('Magnitude_divu.mp4',fps=20)"
   ]
  }
 ],
 "metadata": {
  "kernelspec": {
   "display_name": "Python 3 (ipykernel)",
   "language": "python",
   "name": "python3"
  },
  "language_info": {
   "codemirror_mode": {
    "name": "ipython",
    "version": 3
   },
   "file_extension": ".py",
   "mimetype": "text/x-python",
   "name": "python",
   "nbconvert_exporter": "python",
   "pygments_lexer": "ipython3",
   "version": "3.9.7"
  }
 },
 "nbformat": 4,
 "nbformat_minor": 5
}
